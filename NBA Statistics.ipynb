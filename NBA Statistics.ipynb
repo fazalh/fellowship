{
 "cells": [
  {
   "cell_type": "markdown",
   "metadata": {
    "id": "tmX8q5ACnZPq"
   },
   "source": [
    "# Muhammad Fazal Hildiansyah - DS2"
   ]
  },
  {
   "cell_type": "markdown",
   "metadata": {
    "id": "JksBd3epnZP2"
   },
   "source": [
    "## Import Library\n",
    "> Hal pertama yg dilakukan adalah import library yang akan digunakan pada analisa kita"
   ]
  },
  {
   "cell_type": "code",
   "execution_count": 2,
   "metadata": {
    "id": "72-NJThQnZP4"
   },
   "outputs": [],
   "source": [
    "# import pandas\n",
    "import pandas as pd\n",
    "\n",
    "# import scaler dari sckit-learn untuk scala point\n",
    "from sklearn.preprocessing import MinMaxScaler\n",
    "\n",
    "# import warning agar tidak muncul warning terus di google colab\n",
    "import warnings\n",
    "warnings.filterwarnings(\"ignore\")"
   ]
  },
  {
   "cell_type": "markdown",
   "metadata": {
    "id": "JZhdY-oynZP5"
   },
   "source": [
    "## Data extraction\n",
    "> Setelah itu, mulai dari Data Pre-processing, start dari extract data dari source yg akan digunakan"
   ]
  },
  {
   "cell_type": "code",
   "execution_count": 3,
   "metadata": {
    "id": "SpnWuYagnZP6"
   },
   "outputs": [],
   "source": [
    "# Baca datasource dari CSV sesuai dengan case\n",
    "df_raw = pd.read_csv('https://raw.githubusercontent.com/fazalh/fellowship/main/Datasets/nba-seasons-stats.csv')\n",
    "\n",
    "# Ini merupakan data tambahan, karena nama team di dataset berupa singkatan\n",
    "nba_abbreviation = pd.read_csv('https://raw.githubusercontent.com/fazalh/fellowship/main/Datasets/nba-abbreviation.csv')"
   ]
  },
  {
   "cell_type": "code",
   "execution_count": 4,
   "metadata": {
    "id": "3fshJBmzb3vs"
   },
   "outputs": [],
   "source": [
    "# Merge Data source dengan kepanjangan dari nama Team\n",
    "df_raw = df_raw.merge(nba_abbreviation, how='left', on='Tm')"
   ]
  },
  {
   "cell_type": "code",
   "execution_count": 5,
   "metadata": {
    "colab": {
     "base_uri": "https://localhost:8080/"
    },
    "id": "5S0U2-3gnZP7",
    "outputId": "57e012d4-e543-476e-abd2-a3969b535fa1"
   },
   "outputs": [
    {
     "data": {
      "text/plain": [
       "(24691, 54)"
      ]
     },
     "execution_count": 5,
     "metadata": {},
     "output_type": "execute_result"
    }
   ],
   "source": [
    "# Check data ada berapa column dan row\n",
    "df_raw.shape"
   ]
  },
  {
   "cell_type": "markdown",
   "metadata": {
    "id": "Vd7uJfP5nZP9"
   },
   "source": [
    "## Data Cleansing\n",
    "> Lalu mulai bersihkan data mengikuti aturan yg berlaku"
   ]
  },
  {
   "cell_type": "code",
   "execution_count": 6,
   "metadata": {
    "colab": {
     "base_uri": "https://localhost:8080/"
    },
    "id": "nZgOGUa2nZP-",
    "outputId": "a53e700a-c928-42e8-82f3-8dc5a03be38c"
   },
   "outputs": [
    {
     "data": {
      "text/plain": [
       "(595, 54)"
      ]
     },
     "execution_count": 6,
     "metadata": {},
     "output_type": "execute_result"
    }
   ],
   "source": [
    "# Aturan pertama hanya pakai data tahun 2017\n",
    "\n",
    "df_satu = df_raw[(df_raw['Year'] == 2017)]\n",
    "\n",
    "df_satu.shape"
   ]
  },
  {
   "cell_type": "code",
   "execution_count": 7,
   "metadata": {
    "colab": {
     "base_uri": "https://localhost:8080/"
    },
    "id": "OUVmUev6nZP_",
    "outputId": "81a5eb7d-a099-4cd3-d16c-f50e4cf37cb8"
   },
   "outputs": [
    {
     "data": {
      "text/plain": [
       "(486, 54)"
      ]
     },
     "execution_count": 7,
     "metadata": {},
     "output_type": "execute_result"
    }
   ],
   "source": [
    "# Aturan kedua drop duplicates player\n",
    "\n",
    "df_dua = df_satu.drop_duplicates(subset=['Player'])\n",
    "\n",
    "df_dua.shape"
   ]
  },
  {
   "cell_type": "code",
   "execution_count": 8,
   "metadata": {
    "colab": {
     "base_uri": "https://localhost:8080/"
    },
    "id": "_XcpCwqXnZQA",
    "outputId": "1ea229e2-beb6-42f3-8ca3-02b0daccb418"
   },
   "outputs": [
    {
     "data": {
      "text/plain": [
       "blank2        486\n",
       "blanl         486\n",
       "3P%            36\n",
       "FT%            15\n",
       "2P%             2\n",
       "FTr             1\n",
       "TOV%            1\n",
       "FG%             1\n",
       "eFG%            1\n",
       "TS%             1\n",
       "3PAr            1\n",
       "2PA             0\n",
       "Unnamed: 0      0\n",
       "3PA             0\n",
       "3P              0\n",
       "FGA             0\n",
       "2P              0\n",
       "FTA             0\n",
       "FT              0\n",
       "VORP            0\n",
       "ORB             0\n",
       "DRB             0\n",
       "TRB             0\n",
       "AST             0\n",
       "STL             0\n",
       "BLK             0\n",
       "TOV             0\n",
       "PF              0\n",
       "PTS             0\n",
       "FG              0\n",
       "OBPM            0\n",
       "BPM             0\n",
       "DRB%            0\n",
       "Player          0\n",
       "Pos             0\n",
       "Age             0\n",
       "Tm              0\n",
       "G               0\n",
       "GS              0\n",
       "MP              0\n",
       "PER             0\n",
       "ORB%            0\n",
       "TRB%            0\n",
       "DBPM            0\n",
       "AST%            0\n",
       "STL%            0\n",
       "BLK%            0\n",
       "USG%            0\n",
       "OWS             0\n",
       "DWS             0\n",
       "WS              0\n",
       "WS/48           0\n",
       "Year            0\n",
       "Team            0\n",
       "dtype: int64"
      ]
     },
     "execution_count": 8,
     "metadata": {},
     "output_type": "execute_result"
    }
   ],
   "source": [
    "# Check column mana yg paling banyak missing values\n",
    "\n",
    "df_dua.isnull().sum().sort_values(ascending=False)"
   ]
  },
  {
   "cell_type": "code",
   "execution_count": 9,
   "metadata": {
    "colab": {
     "base_uri": "https://localhost:8080/"
    },
    "id": "tes2YsDznZQB",
    "outputId": "f4477b9c-aca8-4ab9-efdf-34a6d012eda9"
   },
   "outputs": [
    {
     "data": {
      "text/plain": [
       "(486, 52)"
      ]
     },
     "execution_count": 9,
     "metadata": {},
     "output_type": "execute_result"
    }
   ],
   "source": [
    "# Aturan ketiga adalah drop kolom yg banyak missing values\n",
    "\n",
    "df_tiga = df_dua.drop(['blank2', 'blanl'], axis = 1)\n",
    "\n",
    "df_tiga.shape"
   ]
  },
  {
   "cell_type": "code",
   "execution_count": 10,
   "metadata": {
    "colab": {
     "base_uri": "https://localhost:8080/",
     "height": 284
    },
    "id": "q0SmndqCnZQC",
    "outputId": "428559f7-b263-4013-862e-4131a3a9a955"
   },
   "outputs": [
    {
     "data": {
      "text/html": [
       "<div>\n",
       "<style scoped>\n",
       "    .dataframe tbody tr th:only-of-type {\n",
       "        vertical-align: middle;\n",
       "    }\n",
       "\n",
       "    .dataframe tbody tr th {\n",
       "        vertical-align: top;\n",
       "    }\n",
       "\n",
       "    .dataframe thead th {\n",
       "        text-align: right;\n",
       "    }\n",
       "</style>\n",
       "<table border=\"1\" class=\"dataframe\">\n",
       "  <thead>\n",
       "    <tr style=\"text-align: right;\">\n",
       "      <th></th>\n",
       "      <th>3P%</th>\n",
       "      <th>FT%</th>\n",
       "      <th>2P%</th>\n",
       "      <th>eFG%</th>\n",
       "      <th>TOV%</th>\n",
       "      <th>FG%</th>\n",
       "      <th>FTr</th>\n",
       "      <th>3PAr</th>\n",
       "      <th>TS%</th>\n",
       "    </tr>\n",
       "  </thead>\n",
       "  <tbody>\n",
       "    <tr>\n",
       "      <th>count</th>\n",
       "      <td>450.000000</td>\n",
       "      <td>471.000000</td>\n",
       "      <td>484.000000</td>\n",
       "      <td>485.000000</td>\n",
       "      <td>485.000000</td>\n",
       "      <td>485.000000</td>\n",
       "      <td>485.000000</td>\n",
       "      <td>485.000000</td>\n",
       "      <td>485.000000</td>\n",
       "    </tr>\n",
       "    <tr>\n",
       "      <th>mean</th>\n",
       "      <td>0.299342</td>\n",
       "      <td>0.741155</td>\n",
       "      <td>0.482702</td>\n",
       "      <td>0.493454</td>\n",
       "      <td>12.809072</td>\n",
       "      <td>0.441268</td>\n",
       "      <td>0.270179</td>\n",
       "      <td>0.314058</td>\n",
       "      <td>0.526944</td>\n",
       "    </tr>\n",
       "    <tr>\n",
       "      <th>std</th>\n",
       "      <td>0.131183</td>\n",
       "      <td>0.139453</td>\n",
       "      <td>0.109347</td>\n",
       "      <td>0.097814</td>\n",
       "      <td>5.332382</td>\n",
       "      <td>0.099094</td>\n",
       "      <td>0.180287</td>\n",
       "      <td>0.209748</td>\n",
       "      <td>0.089771</td>\n",
       "    </tr>\n",
       "    <tr>\n",
       "      <th>min</th>\n",
       "      <td>0.000000</td>\n",
       "      <td>0.000000</td>\n",
       "      <td>0.000000</td>\n",
       "      <td>0.000000</td>\n",
       "      <td>0.000000</td>\n",
       "      <td>0.000000</td>\n",
       "      <td>0.000000</td>\n",
       "      <td>0.000000</td>\n",
       "      <td>0.000000</td>\n",
       "    </tr>\n",
       "    <tr>\n",
       "      <th>25%</th>\n",
       "      <td>0.267000</td>\n",
       "      <td>0.675000</td>\n",
       "      <td>0.444750</td>\n",
       "      <td>0.466000</td>\n",
       "      <td>9.600000</td>\n",
       "      <td>0.399000</td>\n",
       "      <td>0.165000</td>\n",
       "      <td>0.156000</td>\n",
       "      <td>0.502000</td>\n",
       "    </tr>\n",
       "    <tr>\n",
       "      <th>50%</th>\n",
       "      <td>0.333000</td>\n",
       "      <td>0.766000</td>\n",
       "      <td>0.489500</td>\n",
       "      <td>0.501000</td>\n",
       "      <td>12.400000</td>\n",
       "      <td>0.442000</td>\n",
       "      <td>0.237000</td>\n",
       "      <td>0.324000</td>\n",
       "      <td>0.537000</td>\n",
       "    </tr>\n",
       "    <tr>\n",
       "      <th>75%</th>\n",
       "      <td>0.374750</td>\n",
       "      <td>0.832000</td>\n",
       "      <td>0.536000</td>\n",
       "      <td>0.536000</td>\n",
       "      <td>15.400000</td>\n",
       "      <td>0.485000</td>\n",
       "      <td>0.339000</td>\n",
       "      <td>0.455000</td>\n",
       "      <td>0.576000</td>\n",
       "    </tr>\n",
       "    <tr>\n",
       "      <th>max</th>\n",
       "      <td>1.000000</td>\n",
       "      <td>1.000000</td>\n",
       "      <td>1.000000</td>\n",
       "      <td>1.000000</td>\n",
       "      <td>43.600000</td>\n",
       "      <td>1.000000</td>\n",
       "      <td>2.000000</td>\n",
       "      <td>1.000000</td>\n",
       "      <td>0.799000</td>\n",
       "    </tr>\n",
       "  </tbody>\n",
       "</table>\n",
       "</div>"
      ],
      "text/plain": [
       "              3P%         FT%         2P%        eFG%        TOV%         FG%  \\\n",
       "count  450.000000  471.000000  484.000000  485.000000  485.000000  485.000000   \n",
       "mean     0.299342    0.741155    0.482702    0.493454   12.809072    0.441268   \n",
       "std      0.131183    0.139453    0.109347    0.097814    5.332382    0.099094   \n",
       "min      0.000000    0.000000    0.000000    0.000000    0.000000    0.000000   \n",
       "25%      0.267000    0.675000    0.444750    0.466000    9.600000    0.399000   \n",
       "50%      0.333000    0.766000    0.489500    0.501000   12.400000    0.442000   \n",
       "75%      0.374750    0.832000    0.536000    0.536000   15.400000    0.485000   \n",
       "max      1.000000    1.000000    1.000000    1.000000   43.600000    1.000000   \n",
       "\n",
       "              FTr        3PAr         TS%  \n",
       "count  485.000000  485.000000  485.000000  \n",
       "mean     0.270179    0.314058    0.526944  \n",
       "std      0.180287    0.209748    0.089771  \n",
       "min      0.000000    0.000000    0.000000  \n",
       "25%      0.165000    0.156000    0.502000  \n",
       "50%      0.237000    0.324000    0.537000  \n",
       "75%      0.339000    0.455000    0.576000  \n",
       "max      2.000000    1.000000    0.799000  "
      ]
     },
     "execution_count": 10,
     "metadata": {},
     "output_type": "execute_result"
    }
   ],
   "source": [
    "# Karena kolom 'blank2' dan 'blanl' sudah kita drop,\n",
    "# selanjutnya cek kolom yg masih ada missing value\n",
    "\n",
    "df_tiga[['3P%','FT%','2P%','eFG%','TOV%','FG%','FTr','3PAr','TS%']].describe()"
   ]
  },
  {
   "cell_type": "code",
   "execution_count": 11,
   "metadata": {
    "id": "GQIaUi_RnZQC"
   },
   "outputs": [],
   "source": [
    "# Jika kita melihat 2 angka dibelakang koma, maka hanya 'FG%' yang symmetric, dan kita bisa impute values dengan nilai rata-rata/mean\n",
    "df_tiga['FG%'] = df_tiga['FG%'].fillna((df_tiga['FG%'].mean()))\n",
    "\n",
    "# karena kecenderungan skew maka Kolom lainnya diisi dengan median\n",
    "df = df_tiga.fillna(df_tiga.median())"
   ]
  },
  {
   "cell_type": "code",
   "execution_count": 12,
   "metadata": {
    "colab": {
     "base_uri": "https://localhost:8080/"
    },
    "id": "9hmLCw5JnZQD",
    "outputId": "2cc556f5-53a9-4230-be07-aabb62903ae5"
   },
   "outputs": [
    {
     "name": "stdout",
     "output_type": "stream",
     "text": [
      "<class 'pandas.core.frame.DataFrame'>\n",
      "Int64Index: 486 entries, 24096 to 24690\n",
      "Data columns (total 52 columns):\n",
      " #   Column      Non-Null Count  Dtype  \n",
      "---  ------      --------------  -----  \n",
      " 0   Unnamed: 0  486 non-null    int64  \n",
      " 1   Year        486 non-null    float64\n",
      " 2   Player      486 non-null    object \n",
      " 3   Pos         486 non-null    object \n",
      " 4   Age         486 non-null    float64\n",
      " 5   Tm          486 non-null    object \n",
      " 6   G           486 non-null    float64\n",
      " 7   GS          486 non-null    float64\n",
      " 8   MP          486 non-null    float64\n",
      " 9   PER         486 non-null    float64\n",
      " 10  TS%         486 non-null    float64\n",
      " 11  3PAr        486 non-null    float64\n",
      " 12  FTr         486 non-null    float64\n",
      " 13  ORB%        486 non-null    float64\n",
      " 14  DRB%        486 non-null    float64\n",
      " 15  TRB%        486 non-null    float64\n",
      " 16  AST%        486 non-null    float64\n",
      " 17  STL%        486 non-null    float64\n",
      " 18  BLK%        486 non-null    float64\n",
      " 19  TOV%        486 non-null    float64\n",
      " 20  USG%        486 non-null    float64\n",
      " 21  OWS         486 non-null    float64\n",
      " 22  DWS         486 non-null    float64\n",
      " 23  WS          486 non-null    float64\n",
      " 24  WS/48       486 non-null    float64\n",
      " 25  OBPM        486 non-null    float64\n",
      " 26  DBPM        486 non-null    float64\n",
      " 27  BPM         486 non-null    float64\n",
      " 28  VORP        486 non-null    float64\n",
      " 29  FG          486 non-null    float64\n",
      " 30  FGA         486 non-null    float64\n",
      " 31  FG%         486 non-null    float64\n",
      " 32  3P          486 non-null    float64\n",
      " 33  3PA         486 non-null    float64\n",
      " 34  3P%         486 non-null    float64\n",
      " 35  2P          486 non-null    float64\n",
      " 36  2PA         486 non-null    float64\n",
      " 37  2P%         486 non-null    float64\n",
      " 38  eFG%        486 non-null    float64\n",
      " 39  FT          486 non-null    float64\n",
      " 40  FTA         486 non-null    float64\n",
      " 41  FT%         486 non-null    float64\n",
      " 42  ORB         486 non-null    float64\n",
      " 43  DRB         486 non-null    float64\n",
      " 44  TRB         486 non-null    float64\n",
      " 45  AST         486 non-null    float64\n",
      " 46  STL         486 non-null    float64\n",
      " 47  BLK         486 non-null    float64\n",
      " 48  TOV         486 non-null    float64\n",
      " 49  PF          486 non-null    float64\n",
      " 50  PTS         486 non-null    float64\n",
      " 51  Team        486 non-null    object \n",
      "dtypes: float64(47), int64(1), object(4)\n",
      "memory usage: 201.2+ KB\n"
     ]
    }
   ],
   "source": [
    "# Check ulang apakah masih ada missing values\n",
    "\n",
    "df.info()"
   ]
  },
  {
   "cell_type": "markdown",
   "metadata": {
    "id": "HxkTik9enZQE"
   },
   "source": [
    "## Data Analysis\n",
    "\n",
    "> Setelah data sudah clean, baru memulai analisa sesuai dengan soal"
   ]
  },
  {
   "cell_type": "code",
   "execution_count": 13,
   "metadata": {
    "colab": {
     "base_uri": "https://localhost:8080/",
     "height": 366
    },
    "id": "VA2GxCfeDfgW",
    "outputId": "e9735364-cdaa-49c8-b425-41caff11ff5a"
   },
   "outputs": [
    {
     "data": {
      "text/html": [
       "<div>\n",
       "<style scoped>\n",
       "    .dataframe tbody tr th:only-of-type {\n",
       "        vertical-align: middle;\n",
       "    }\n",
       "\n",
       "    .dataframe tbody tr th {\n",
       "        vertical-align: top;\n",
       "    }\n",
       "\n",
       "    .dataframe thead th {\n",
       "        text-align: right;\n",
       "    }\n",
       "</style>\n",
       "<table border=\"1\" class=\"dataframe\">\n",
       "  <thead>\n",
       "    <tr style=\"text-align: right;\">\n",
       "      <th></th>\n",
       "      <th>Unnamed: 0</th>\n",
       "      <th>Year</th>\n",
       "      <th>Player</th>\n",
       "      <th>Pos</th>\n",
       "      <th>Age</th>\n",
       "      <th>Tm</th>\n",
       "      <th>G</th>\n",
       "      <th>GS</th>\n",
       "      <th>MP</th>\n",
       "      <th>PER</th>\n",
       "      <th>...</th>\n",
       "      <th>ORB</th>\n",
       "      <th>DRB</th>\n",
       "      <th>TRB</th>\n",
       "      <th>AST</th>\n",
       "      <th>STL</th>\n",
       "      <th>BLK</th>\n",
       "      <th>TOV</th>\n",
       "      <th>PF</th>\n",
       "      <th>PTS</th>\n",
       "      <th>Team</th>\n",
       "    </tr>\n",
       "  </thead>\n",
       "  <tbody>\n",
       "    <tr>\n",
       "      <th>24096</th>\n",
       "      <td>24096</td>\n",
       "      <td>2017.0</td>\n",
       "      <td>Alex Abrines</td>\n",
       "      <td>SG</td>\n",
       "      <td>23.0</td>\n",
       "      <td>OKC</td>\n",
       "      <td>68.0</td>\n",
       "      <td>6.0</td>\n",
       "      <td>1055.0</td>\n",
       "      <td>10.1</td>\n",
       "      <td>...</td>\n",
       "      <td>18.0</td>\n",
       "      <td>68.0</td>\n",
       "      <td>86.0</td>\n",
       "      <td>40.0</td>\n",
       "      <td>37.0</td>\n",
       "      <td>8.0</td>\n",
       "      <td>33.0</td>\n",
       "      <td>114.0</td>\n",
       "      <td>406.0</td>\n",
       "      <td>Oklahoma City Thunder</td>\n",
       "    </tr>\n",
       "    <tr>\n",
       "      <th>24097</th>\n",
       "      <td>24097</td>\n",
       "      <td>2017.0</td>\n",
       "      <td>Quincy Acy</td>\n",
       "      <td>PF</td>\n",
       "      <td>26.0</td>\n",
       "      <td>TOT</td>\n",
       "      <td>38.0</td>\n",
       "      <td>1.0</td>\n",
       "      <td>558.0</td>\n",
       "      <td>11.8</td>\n",
       "      <td>...</td>\n",
       "      <td>20.0</td>\n",
       "      <td>95.0</td>\n",
       "      <td>115.0</td>\n",
       "      <td>18.0</td>\n",
       "      <td>14.0</td>\n",
       "      <td>15.0</td>\n",
       "      <td>21.0</td>\n",
       "      <td>67.0</td>\n",
       "      <td>222.0</td>\n",
       "      <td>Transferred Players</td>\n",
       "    </tr>\n",
       "    <tr>\n",
       "      <th>24100</th>\n",
       "      <td>24100</td>\n",
       "      <td>2017.0</td>\n",
       "      <td>Steven Adams</td>\n",
       "      <td>C</td>\n",
       "      <td>23.0</td>\n",
       "      <td>OKC</td>\n",
       "      <td>80.0</td>\n",
       "      <td>80.0</td>\n",
       "      <td>2389.0</td>\n",
       "      <td>16.5</td>\n",
       "      <td>...</td>\n",
       "      <td>282.0</td>\n",
       "      <td>333.0</td>\n",
       "      <td>615.0</td>\n",
       "      <td>86.0</td>\n",
       "      <td>88.0</td>\n",
       "      <td>78.0</td>\n",
       "      <td>146.0</td>\n",
       "      <td>195.0</td>\n",
       "      <td>905.0</td>\n",
       "      <td>Oklahoma City Thunder</td>\n",
       "    </tr>\n",
       "    <tr>\n",
       "      <th>24101</th>\n",
       "      <td>24101</td>\n",
       "      <td>2017.0</td>\n",
       "      <td>Arron Afflalo</td>\n",
       "      <td>SG</td>\n",
       "      <td>31.0</td>\n",
       "      <td>SAC</td>\n",
       "      <td>61.0</td>\n",
       "      <td>45.0</td>\n",
       "      <td>1580.0</td>\n",
       "      <td>9.0</td>\n",
       "      <td>...</td>\n",
       "      <td>9.0</td>\n",
       "      <td>116.0</td>\n",
       "      <td>125.0</td>\n",
       "      <td>78.0</td>\n",
       "      <td>21.0</td>\n",
       "      <td>7.0</td>\n",
       "      <td>42.0</td>\n",
       "      <td>104.0</td>\n",
       "      <td>515.0</td>\n",
       "      <td>Sacramento Kings</td>\n",
       "    </tr>\n",
       "    <tr>\n",
       "      <th>24102</th>\n",
       "      <td>24102</td>\n",
       "      <td>2017.0</td>\n",
       "      <td>Alexis Ajinca</td>\n",
       "      <td>C</td>\n",
       "      <td>28.0</td>\n",
       "      <td>NOP</td>\n",
       "      <td>39.0</td>\n",
       "      <td>15.0</td>\n",
       "      <td>584.0</td>\n",
       "      <td>12.9</td>\n",
       "      <td>...</td>\n",
       "      <td>46.0</td>\n",
       "      <td>131.0</td>\n",
       "      <td>177.0</td>\n",
       "      <td>12.0</td>\n",
       "      <td>20.0</td>\n",
       "      <td>22.0</td>\n",
       "      <td>31.0</td>\n",
       "      <td>77.0</td>\n",
       "      <td>207.0</td>\n",
       "      <td>New Orleans Pelicans</td>\n",
       "    </tr>\n",
       "  </tbody>\n",
       "</table>\n",
       "<p>5 rows × 52 columns</p>\n",
       "</div>"
      ],
      "text/plain": [
       "       Unnamed: 0    Year         Player Pos   Age   Tm     G    GS      MP  \\\n",
       "24096       24096  2017.0   Alex Abrines  SG  23.0  OKC  68.0   6.0  1055.0   \n",
       "24097       24097  2017.0     Quincy Acy  PF  26.0  TOT  38.0   1.0   558.0   \n",
       "24100       24100  2017.0   Steven Adams   C  23.0  OKC  80.0  80.0  2389.0   \n",
       "24101       24101  2017.0  Arron Afflalo  SG  31.0  SAC  61.0  45.0  1580.0   \n",
       "24102       24102  2017.0  Alexis Ajinca   C  28.0  NOP  39.0  15.0   584.0   \n",
       "\n",
       "        PER  ...    ORB    DRB    TRB   AST   STL   BLK    TOV     PF    PTS  \\\n",
       "24096  10.1  ...   18.0   68.0   86.0  40.0  37.0   8.0   33.0  114.0  406.0   \n",
       "24097  11.8  ...   20.0   95.0  115.0  18.0  14.0  15.0   21.0   67.0  222.0   \n",
       "24100  16.5  ...  282.0  333.0  615.0  86.0  88.0  78.0  146.0  195.0  905.0   \n",
       "24101   9.0  ...    9.0  116.0  125.0  78.0  21.0   7.0   42.0  104.0  515.0   \n",
       "24102  12.9  ...   46.0  131.0  177.0  12.0  20.0  22.0   31.0   77.0  207.0   \n",
       "\n",
       "                        Team  \n",
       "24096  Oklahoma City Thunder  \n",
       "24097    Transferred Players  \n",
       "24100  Oklahoma City Thunder  \n",
       "24101       Sacramento Kings  \n",
       "24102   New Orleans Pelicans  \n",
       "\n",
       "[5 rows x 52 columns]"
      ]
     },
     "execution_count": 13,
     "metadata": {},
     "output_type": "execute_result"
    }
   ],
   "source": [
    "df.head()"
   ]
  },
  {
   "cell_type": "markdown",
   "metadata": {
    "id": "H5wnmGJz2gcl"
   },
   "source": [
    "### 1. Who is the youngest and oldest player in the NBA in 2017 for each (Tm) ?"
   ]
  },
  {
   "cell_type": "code",
   "execution_count": 14,
   "metadata": {
    "colab": {
     "base_uri": "https://localhost:8080/",
     "height": 994
    },
    "id": "bExtEpSt2ZSa",
    "outputId": "e5af8f03-cbbd-4dfb-b49a-da0877e2e31e"
   },
   "outputs": [
    {
     "data": {
      "text/html": [
       "<div>\n",
       "<style scoped>\n",
       "    .dataframe tbody tr th:only-of-type {\n",
       "        vertical-align: middle;\n",
       "    }\n",
       "\n",
       "    .dataframe tbody tr th {\n",
       "        vertical-align: top;\n",
       "    }\n",
       "\n",
       "    .dataframe thead th {\n",
       "        text-align: right;\n",
       "    }\n",
       "</style>\n",
       "<table border=\"1\" class=\"dataframe\">\n",
       "  <thead>\n",
       "    <tr style=\"text-align: right;\">\n",
       "      <th></th>\n",
       "      <th>Youngest Age</th>\n",
       "      <th>Youngest Player</th>\n",
       "      <th>Oldest Age</th>\n",
       "      <th>Oldest Player</th>\n",
       "    </tr>\n",
       "    <tr>\n",
       "      <th>Team</th>\n",
       "      <th></th>\n",
       "      <th></th>\n",
       "      <th></th>\n",
       "      <th></th>\n",
       "    </tr>\n",
       "  </thead>\n",
       "  <tbody>\n",
       "    <tr>\n",
       "      <th>Atlanta Hawks</th>\n",
       "      <td>22.0</td>\n",
       "      <td>DeAndre' Bembry</td>\n",
       "      <td>32.0</td>\n",
       "      <td>Tim Hardaway</td>\n",
       "    </tr>\n",
       "    <tr>\n",
       "      <th>Boston Celtics</th>\n",
       "      <td>20.0</td>\n",
       "      <td>Al Horford</td>\n",
       "      <td>31.0</td>\n",
       "      <td>Tyler Zeller</td>\n",
       "    </tr>\n",
       "    <tr>\n",
       "      <th>Brooklyn Nets</th>\n",
       "      <td>21.0</td>\n",
       "      <td>Anthony Bennett</td>\n",
       "      <td>36.0</td>\n",
       "      <td>Trevor Booker</td>\n",
       "    </tr>\n",
       "    <tr>\n",
       "      <th>Charlotte Hornets</th>\n",
       "      <td>21.0</td>\n",
       "      <td>Aaron Harrison</td>\n",
       "      <td>31.0</td>\n",
       "      <td>Treveon Graham</td>\n",
       "    </tr>\n",
       "    <tr>\n",
       "      <th>Chicago Bulls</th>\n",
       "      <td>21.0</td>\n",
       "      <td>Bobby Portis</td>\n",
       "      <td>35.0</td>\n",
       "      <td>Robin Lopez</td>\n",
       "    </tr>\n",
       "    <tr>\n",
       "      <th>Cleveland Cavaliers</th>\n",
       "      <td>21.0</td>\n",
       "      <td>Channing Frye</td>\n",
       "      <td>38.0</td>\n",
       "      <td>Tristan Thompson</td>\n",
       "    </tr>\n",
       "    <tr>\n",
       "      <th>Dallas Mavericks</th>\n",
       "      <td>21.0</td>\n",
       "      <td>A.J. Hammons</td>\n",
       "      <td>38.0</td>\n",
       "      <td>Wesley Matthews</td>\n",
       "    </tr>\n",
       "    <tr>\n",
       "      <th>Denver Nuggets</th>\n",
       "      <td>19.0</td>\n",
       "      <td>Alonzo Gee</td>\n",
       "      <td>36.0</td>\n",
       "      <td>Wilson Chandler</td>\n",
       "    </tr>\n",
       "    <tr>\n",
       "      <th>Detroit Pistons</th>\n",
       "      <td>20.0</td>\n",
       "      <td>Andre Drummond</td>\n",
       "      <td>34.0</td>\n",
       "      <td>Tobias Harris</td>\n",
       "    </tr>\n",
       "    <tr>\n",
       "      <th>Golden State Warriors</th>\n",
       "      <td>20.0</td>\n",
       "      <td>Anderson Varejao</td>\n",
       "      <td>36.0</td>\n",
       "      <td>Zaza Pachulia</td>\n",
       "    </tr>\n",
       "    <tr>\n",
       "      <th>Houston Rockets</th>\n",
       "      <td>20.0</td>\n",
       "      <td>Bobby Brown</td>\n",
       "      <td>34.0</td>\n",
       "      <td>Trevor Ariza</td>\n",
       "    </tr>\n",
       "    <tr>\n",
       "      <th>Indiana Pacers</th>\n",
       "      <td>20.0</td>\n",
       "      <td>Aaron Brooks</td>\n",
       "      <td>32.0</td>\n",
       "      <td>Thaddeus Young</td>\n",
       "    </tr>\n",
       "    <tr>\n",
       "      <th>Los Angeles Clippers</th>\n",
       "      <td>19.0</td>\n",
       "      <td>Alan Anderson</td>\n",
       "      <td>39.0</td>\n",
       "      <td>Wesley Johnson</td>\n",
       "    </tr>\n",
       "    <tr>\n",
       "      <th>Los Angeles Lakers</th>\n",
       "      <td>19.0</td>\n",
       "      <td>Brandon Ingram</td>\n",
       "      <td>37.0</td>\n",
       "      <td>Timofey Mozgov</td>\n",
       "    </tr>\n",
       "    <tr>\n",
       "      <th>Memphis Grizzlies</th>\n",
       "      <td>20.0</td>\n",
       "      <td>Andrew Harrison</td>\n",
       "      <td>40.0</td>\n",
       "      <td>Zach Randolph</td>\n",
       "    </tr>\n",
       "    <tr>\n",
       "      <th>Miami Heat</th>\n",
       "      <td>20.0</td>\n",
       "      <td>Dion Waiters</td>\n",
       "      <td>36.0</td>\n",
       "      <td>Willie Reed</td>\n",
       "    </tr>\n",
       "    <tr>\n",
       "      <th>Milwaukee Bucks</th>\n",
       "      <td>19.0</td>\n",
       "      <td>Gary Payton</td>\n",
       "      <td>39.0</td>\n",
       "      <td>Tony Snell</td>\n",
       "    </tr>\n",
       "    <tr>\n",
       "      <th>Minnesota Timberwolves</th>\n",
       "      <td>20.0</td>\n",
       "      <td>Adreian Payne</td>\n",
       "      <td>34.0</td>\n",
       "      <td>Zach LaVine</td>\n",
       "    </tr>\n",
       "    <tr>\n",
       "      <th>New Orleans Pelicans</th>\n",
       "      <td>20.0</td>\n",
       "      <td>Alexis Ajinca</td>\n",
       "      <td>33.0</td>\n",
       "      <td>Tim Frazier</td>\n",
       "    </tr>\n",
       "    <tr>\n",
       "      <th>New York Knicks</th>\n",
       "      <td>21.0</td>\n",
       "      <td>Carmelo Anthony</td>\n",
       "      <td>32.0</td>\n",
       "      <td>Willy Hernangomez</td>\n",
       "    </tr>\n",
       "    <tr>\n",
       "      <th>Oklahoma City Thunder</th>\n",
       "      <td>20.0</td>\n",
       "      <td>Alex Abrines</td>\n",
       "      <td>36.0</td>\n",
       "      <td>Victor Oladipo</td>\n",
       "    </tr>\n",
       "    <tr>\n",
       "      <th>Orlando Magic</th>\n",
       "      <td>20.0</td>\n",
       "      <td>Aaron Gordon</td>\n",
       "      <td>32.0</td>\n",
       "      <td>Stephen Zimmerman</td>\n",
       "    </tr>\n",
       "    <tr>\n",
       "      <th>Philadelphia 76ers</th>\n",
       "      <td>21.0</td>\n",
       "      <td>Alex Poythress</td>\n",
       "      <td>32.0</td>\n",
       "      <td>Timothe Luwawu-Cabarrot</td>\n",
       "    </tr>\n",
       "    <tr>\n",
       "      <th>Phoenix Suns</th>\n",
       "      <td>19.0</td>\n",
       "      <td>Alan Williams</td>\n",
       "      <td>34.0</td>\n",
       "      <td>Tyson Chandler</td>\n",
       "    </tr>\n",
       "    <tr>\n",
       "      <th>Portland Trail Blazers</th>\n",
       "      <td>21.0</td>\n",
       "      <td>Al-Farouq Aminu</td>\n",
       "      <td>28.0</td>\n",
       "      <td>Tim Quarterman</td>\n",
       "    </tr>\n",
       "    <tr>\n",
       "      <th>Sacramento Kings</th>\n",
       "      <td>19.0</td>\n",
       "      <td>Anthony Tolliver</td>\n",
       "      <td>31.0</td>\n",
       "      <td>Willie Cauley-Stein</td>\n",
       "    </tr>\n",
       "    <tr>\n",
       "      <th>San Antonio Spurs</th>\n",
       "      <td>20.0</td>\n",
       "      <td>Bryn Forbes</td>\n",
       "      <td>39.0</td>\n",
       "      <td>Tony Parker</td>\n",
       "    </tr>\n",
       "    <tr>\n",
       "      <th>Toronto Raptors</th>\n",
       "      <td>21.0</td>\n",
       "      <td>Bruno Caboclo</td>\n",
       "      <td>30.0</td>\n",
       "      <td>Patrick Patterson</td>\n",
       "    </tr>\n",
       "    <tr>\n",
       "      <th>Transferred Players</th>\n",
       "      <td>21.0</td>\n",
       "      <td>Andrew Bogut</td>\n",
       "      <td>36.0</td>\n",
       "      <td>Yogi Ferrell</td>\n",
       "    </tr>\n",
       "    <tr>\n",
       "      <th>Utah Jazz</th>\n",
       "      <td>21.0</td>\n",
       "      <td>Alec Burks</td>\n",
       "      <td>35.0</td>\n",
       "      <td>Trey Lyles</td>\n",
       "    </tr>\n",
       "    <tr>\n",
       "      <th>Washington Wizards</th>\n",
       "      <td>21.0</td>\n",
       "      <td>Bradley Beal</td>\n",
       "      <td>32.0</td>\n",
       "      <td>Trey Burke</td>\n",
       "    </tr>\n",
       "  </tbody>\n",
       "</table>\n",
       "</div>"
      ],
      "text/plain": [
       "                        Youngest Age   Youngest Player  Oldest Age  \\\n",
       "Team                                                                 \n",
       "Atlanta Hawks                   22.0   DeAndre' Bembry        32.0   \n",
       "Boston Celtics                  20.0        Al Horford        31.0   \n",
       "Brooklyn Nets                   21.0   Anthony Bennett        36.0   \n",
       "Charlotte Hornets               21.0    Aaron Harrison        31.0   \n",
       "Chicago Bulls                   21.0      Bobby Portis        35.0   \n",
       "Cleveland Cavaliers             21.0     Channing Frye        38.0   \n",
       "Dallas Mavericks                21.0      A.J. Hammons        38.0   \n",
       "Denver Nuggets                  19.0        Alonzo Gee        36.0   \n",
       "Detroit Pistons                 20.0    Andre Drummond        34.0   \n",
       "Golden State Warriors           20.0  Anderson Varejao        36.0   \n",
       "Houston Rockets                 20.0       Bobby Brown        34.0   \n",
       "Indiana Pacers                  20.0      Aaron Brooks        32.0   \n",
       "Los Angeles Clippers            19.0     Alan Anderson        39.0   \n",
       "Los Angeles Lakers              19.0    Brandon Ingram        37.0   \n",
       "Memphis Grizzlies               20.0   Andrew Harrison        40.0   \n",
       "Miami Heat                      20.0      Dion Waiters        36.0   \n",
       "Milwaukee Bucks                 19.0       Gary Payton        39.0   \n",
       "Minnesota Timberwolves          20.0     Adreian Payne        34.0   \n",
       "New Orleans Pelicans            20.0     Alexis Ajinca        33.0   \n",
       "New York Knicks                 21.0   Carmelo Anthony        32.0   \n",
       "Oklahoma City Thunder           20.0      Alex Abrines        36.0   \n",
       "Orlando Magic                   20.0      Aaron Gordon        32.0   \n",
       "Philadelphia 76ers              21.0    Alex Poythress        32.0   \n",
       "Phoenix Suns                    19.0     Alan Williams        34.0   \n",
       "Portland Trail Blazers          21.0   Al-Farouq Aminu        28.0   \n",
       "Sacramento Kings                19.0  Anthony Tolliver        31.0   \n",
       "San Antonio Spurs               20.0       Bryn Forbes        39.0   \n",
       "Toronto Raptors                 21.0     Bruno Caboclo        30.0   \n",
       "Transferred Players             21.0      Andrew Bogut        36.0   \n",
       "Utah Jazz                       21.0        Alec Burks        35.0   \n",
       "Washington Wizards              21.0      Bradley Beal        32.0   \n",
       "\n",
       "                                  Oldest Player  \n",
       "Team                                             \n",
       "Atlanta Hawks                      Tim Hardaway  \n",
       "Boston Celtics                     Tyler Zeller  \n",
       "Brooklyn Nets                     Trevor Booker  \n",
       "Charlotte Hornets                Treveon Graham  \n",
       "Chicago Bulls                       Robin Lopez  \n",
       "Cleveland Cavaliers            Tristan Thompson  \n",
       "Dallas Mavericks                Wesley Matthews  \n",
       "Denver Nuggets                  Wilson Chandler  \n",
       "Detroit Pistons                   Tobias Harris  \n",
       "Golden State Warriors             Zaza Pachulia  \n",
       "Houston Rockets                    Trevor Ariza  \n",
       "Indiana Pacers                   Thaddeus Young  \n",
       "Los Angeles Clippers             Wesley Johnson  \n",
       "Los Angeles Lakers               Timofey Mozgov  \n",
       "Memphis Grizzlies                 Zach Randolph  \n",
       "Miami Heat                          Willie Reed  \n",
       "Milwaukee Bucks                      Tony Snell  \n",
       "Minnesota Timberwolves              Zach LaVine  \n",
       "New Orleans Pelicans                Tim Frazier  \n",
       "New York Knicks               Willy Hernangomez  \n",
       "Oklahoma City Thunder            Victor Oladipo  \n",
       "Orlando Magic                 Stephen Zimmerman  \n",
       "Philadelphia 76ers      Timothe Luwawu-Cabarrot  \n",
       "Phoenix Suns                     Tyson Chandler  \n",
       "Portland Trail Blazers           Tim Quarterman  \n",
       "Sacramento Kings            Willie Cauley-Stein  \n",
       "San Antonio Spurs                   Tony Parker  \n",
       "Toronto Raptors               Patrick Patterson  \n",
       "Transferred Players                Yogi Ferrell  \n",
       "Utah Jazz                            Trey Lyles  \n",
       "Washington Wizards                   Trey Burke  "
      ]
     },
     "execution_count": 14,
     "metadata": {},
     "output_type": "execute_result"
    }
   ],
   "source": [
    "# Define younget and oldest player by Team\n",
    "youngest = df.groupby('Team')['Age', 'Player'].min()\n",
    "oldest = df.groupby('Team')['Age', 'Player'].max()\n",
    "\n",
    "# Rename column di tiap dataframe\n",
    "youngest = youngest.rename(columns={'Age': 'Youngest Age', 'Player': 'Youngest Player'})\n",
    "oldest = oldest.rename(columns={'Age': 'Oldest Age', 'Player': 'Oldest Player'})\n",
    "\n",
    "# Merge kedua result diatas\n",
    "satu = youngest.merge(oldest, how='left', on='Team')\n",
    "satu"
   ]
  },
  {
   "cell_type": "markdown",
   "metadata": {
    "id": "F6juHqYLCwRI"
   },
   "source": [
    "### 2. Which Player has the most minutes played (MP) in each position (Pos) ?"
   ]
  },
  {
   "cell_type": "code",
   "execution_count": 15,
   "metadata": {
    "colab": {
     "base_uri": "https://localhost:8080/",
     "height": 254
    },
    "id": "_h0bBrF2CoUW",
    "outputId": "694bef22-70c5-43d5-8f2a-bd65f5e6a6c4"
   },
   "outputs": [
    {
     "data": {
      "text/html": [
       "<div>\n",
       "<style scoped>\n",
       "    .dataframe tbody tr th:only-of-type {\n",
       "        vertical-align: middle;\n",
       "    }\n",
       "\n",
       "    .dataframe tbody tr th {\n",
       "        vertical-align: top;\n",
       "    }\n",
       "\n",
       "    .dataframe thead th {\n",
       "        text-align: right;\n",
       "    }\n",
       "</style>\n",
       "<table border=\"1\" class=\"dataframe\">\n",
       "  <thead>\n",
       "    <tr style=\"text-align: right;\">\n",
       "      <th></th>\n",
       "      <th>MP</th>\n",
       "      <th>Player</th>\n",
       "    </tr>\n",
       "    <tr>\n",
       "      <th>Pos</th>\n",
       "      <th></th>\n",
       "      <th></th>\n",
       "    </tr>\n",
       "  </thead>\n",
       "  <tbody>\n",
       "    <tr>\n",
       "      <th>C</th>\n",
       "      <td>3030.0</td>\n",
       "      <td>Zaza Pachulia</td>\n",
       "    </tr>\n",
       "    <tr>\n",
       "      <th>PF</th>\n",
       "      <td>2803.0</td>\n",
       "      <td>Zach Randolph</td>\n",
       "    </tr>\n",
       "    <tr>\n",
       "      <th>PF-C</th>\n",
       "      <td>980.0</td>\n",
       "      <td>Joffrey Lauvergne</td>\n",
       "    </tr>\n",
       "    <tr>\n",
       "      <th>PG</th>\n",
       "      <td>2947.0</td>\n",
       "      <td>Yogi Ferrell</td>\n",
       "    </tr>\n",
       "    <tr>\n",
       "      <th>SF</th>\n",
       "      <td>3048.0</td>\n",
       "      <td>Wilson Chandler</td>\n",
       "    </tr>\n",
       "    <tr>\n",
       "      <th>SG</th>\n",
       "      <td>2796.0</td>\n",
       "      <td>Zach LaVine</td>\n",
       "    </tr>\n",
       "  </tbody>\n",
       "</table>\n",
       "</div>"
      ],
      "text/plain": [
       "          MP             Player\n",
       "Pos                            \n",
       "C     3030.0      Zaza Pachulia\n",
       "PF    2803.0      Zach Randolph\n",
       "PF-C   980.0  Joffrey Lauvergne\n",
       "PG    2947.0       Yogi Ferrell\n",
       "SF    3048.0    Wilson Chandler\n",
       "SG    2796.0        Zach LaVine"
      ]
     },
     "execution_count": 15,
     "metadata": {},
     "output_type": "execute_result"
    }
   ],
   "source": [
    "# Define player yang paling sering bermain\n",
    "dua = df.groupby('Pos')['MP', 'Player'].max()\n",
    "\n",
    "dua"
   ]
  },
  {
   "cell_type": "code",
   "execution_count": 16,
   "metadata": {
    "colab": {
     "base_uri": "https://localhost:8080/",
     "height": 195
    },
    "id": "oWTobmchJ4_x",
    "outputId": "fc85bbd7-964e-4d1e-a80e-6fbef72e6d84"
   },
   "outputs": [
    {
     "data": {
      "text/html": [
       "<div>\n",
       "<style scoped>\n",
       "    .dataframe tbody tr th:only-of-type {\n",
       "        vertical-align: middle;\n",
       "    }\n",
       "\n",
       "    .dataframe tbody tr th {\n",
       "        vertical-align: top;\n",
       "    }\n",
       "\n",
       "    .dataframe thead th {\n",
       "        text-align: right;\n",
       "    }\n",
       "</style>\n",
       "<table border=\"1\" class=\"dataframe\">\n",
       "  <thead>\n",
       "    <tr style=\"text-align: right;\">\n",
       "      <th></th>\n",
       "      <th>Year</th>\n",
       "      <th>Team</th>\n",
       "      <th>Pos</th>\n",
       "      <th>MP</th>\n",
       "    </tr>\n",
       "  </thead>\n",
       "  <tbody>\n",
       "    <tr>\n",
       "      <th>23202</th>\n",
       "      <td>2015.0</td>\n",
       "      <td>Denver Nuggets</td>\n",
       "      <td>C</td>\n",
       "      <td>268.0</td>\n",
       "    </tr>\n",
       "    <tr>\n",
       "      <th>23827</th>\n",
       "      <td>2016.0</td>\n",
       "      <td>Denver Nuggets</td>\n",
       "      <td>C</td>\n",
       "      <td>1041.0</td>\n",
       "    </tr>\n",
       "    <tr>\n",
       "      <th>24405</th>\n",
       "      <td>2017.0</td>\n",
       "      <td>Transferred Players</td>\n",
       "      <td>PF-C</td>\n",
       "      <td>980.0</td>\n",
       "    </tr>\n",
       "    <tr>\n",
       "      <th>24406</th>\n",
       "      <td>2017.0</td>\n",
       "      <td>Oklahoma City Thunder</td>\n",
       "      <td>PF</td>\n",
       "      <td>739.0</td>\n",
       "    </tr>\n",
       "    <tr>\n",
       "      <th>24407</th>\n",
       "      <td>2017.0</td>\n",
       "      <td>Chicago Bulls</td>\n",
       "      <td>C</td>\n",
       "      <td>241.0</td>\n",
       "    </tr>\n",
       "  </tbody>\n",
       "</table>\n",
       "</div>"
      ],
      "text/plain": [
       "         Year                   Team   Pos      MP\n",
       "23202  2015.0         Denver Nuggets     C   268.0\n",
       "23827  2016.0         Denver Nuggets     C  1041.0\n",
       "24405  2017.0    Transferred Players  PF-C   980.0\n",
       "24406  2017.0  Oklahoma City Thunder    PF   739.0\n",
       "24407  2017.0          Chicago Bulls     C   241.0"
      ]
     },
     "execution_count": 16,
     "metadata": {},
     "output_type": "execute_result"
    }
   ],
   "source": [
    "# Case Joffrey Lauvergne, dilihat dari data_raw, ternyata lebih sering bermain di Posisi Center\n",
    "# Saat pindah dari Oklahoma ke Bulls, Joffrey kembali ke posisi semula yaitu Center\n",
    "# Dan saat research di web NBA, setelah pindah dari Buls ke Spurs, dia juga tetap di Center\n",
    "\n",
    "df_raw[['Year', 'Team', 'Pos', 'MP']][df_raw['Player'] == 'Joffrey Lauvergne']"
   ]
  },
  {
   "cell_type": "code",
   "execution_count": 17,
   "metadata": {
    "colab": {
     "base_uri": "https://localhost:8080/",
     "height": 225
    },
    "id": "p1_jRBEHCoou",
    "outputId": "dc4705cb-2c54-4e96-9af7-3d8dc57c91a9"
   },
   "outputs": [
    {
     "data": {
      "text/html": [
       "<div>\n",
       "<style scoped>\n",
       "    .dataframe tbody tr th:only-of-type {\n",
       "        vertical-align: middle;\n",
       "    }\n",
       "\n",
       "    .dataframe tbody tr th {\n",
       "        vertical-align: top;\n",
       "    }\n",
       "\n",
       "    .dataframe thead th {\n",
       "        text-align: right;\n",
       "    }\n",
       "</style>\n",
       "<table border=\"1\" class=\"dataframe\">\n",
       "  <thead>\n",
       "    <tr style=\"text-align: right;\">\n",
       "      <th></th>\n",
       "      <th>MP</th>\n",
       "      <th>Player</th>\n",
       "    </tr>\n",
       "    <tr>\n",
       "      <th>Pos</th>\n",
       "      <th></th>\n",
       "      <th></th>\n",
       "    </tr>\n",
       "  </thead>\n",
       "  <tbody>\n",
       "    <tr>\n",
       "      <th>C</th>\n",
       "      <td>3030.0</td>\n",
       "      <td>Zaza Pachulia</td>\n",
       "    </tr>\n",
       "    <tr>\n",
       "      <th>PF</th>\n",
       "      <td>2803.0</td>\n",
       "      <td>Zach Randolph</td>\n",
       "    </tr>\n",
       "    <tr>\n",
       "      <th>PG</th>\n",
       "      <td>2947.0</td>\n",
       "      <td>Yogi Ferrell</td>\n",
       "    </tr>\n",
       "    <tr>\n",
       "      <th>SF</th>\n",
       "      <td>3048.0</td>\n",
       "      <td>Wilson Chandler</td>\n",
       "    </tr>\n",
       "    <tr>\n",
       "      <th>SG</th>\n",
       "      <td>2796.0</td>\n",
       "      <td>Zach LaVine</td>\n",
       "    </tr>\n",
       "  </tbody>\n",
       "</table>\n",
       "</div>"
      ],
      "text/plain": [
       "         MP           Player\n",
       "Pos                         \n",
       "C    3030.0    Zaza Pachulia\n",
       "PF   2803.0    Zach Randolph\n",
       "PG   2947.0     Yogi Ferrell\n",
       "SF   3048.0  Wilson Chandler\n",
       "SG   2796.0      Zach LaVine"
      ]
     },
     "execution_count": 17,
     "metadata": {},
     "output_type": "execute_result"
    }
   ],
   "source": [
    "# Maka dengan mengubah posisi Joffrey menjadi Center, akan didapatkan hasil seperti ini\n",
    "df.loc[df['Player'] == 'Joffrey Lauvergne', 'Pos'] = 'C'\n",
    "\n",
    "df.groupby('Pos')['MP', 'Player'].max()"
   ]
  },
  {
   "cell_type": "markdown",
   "metadata": {
    "id": "dcVXUA9XC-IX"
   },
   "source": [
    "### 3. Which team has the highest average total rebound percentage (TRB%), assist percentage (AST%), steal percentage (STL%), and block percentage (BLK%)?\n"
   ]
  },
  {
   "cell_type": "code",
   "execution_count": 18,
   "metadata": {
    "colab": {
     "base_uri": "https://localhost:8080/"
    },
    "id": "Lm0z67MpCpJ8",
    "outputId": "8a978164-b4af-4446-c0d0-27340df1a300"
   },
   "outputs": [
    {
     "name": "stdout",
     "output_type": "stream",
     "text": [
      "                             TRB%       AST%      STL%      BLK%\n",
      "Team                                                            \n",
      "Atlanta Hawks            9.680000  14.120000  1.500000  1.693333\n",
      "Boston Celtics          10.360000  14.573333  1.366667  1.493333\n",
      "Brooklyn Nets            9.757143  15.000000  1.457143  1.400000\n",
      "Charlotte Hornets        9.264286  14.042857  1.235714  1.371429\n",
      "Chicago Bulls            9.738462  13.061538  1.584615  1.315385\n",
      "Cleveland Cavaliers     10.142857  11.978571  1.492857  1.885714\n",
      "Dallas Mavericks        10.400000  14.162500  1.287500  1.643750\n",
      "Denver Nuggets          10.600000  15.860000  1.880000  0.953333\n",
      "Detroit Pistons         10.326667  13.200000  1.260000  1.173333\n",
      "Golden State Warriors   11.426667  13.960000  1.733333  2.740000\n",
      "Houston Rockets          9.761538  12.823077  1.646154  1.600000\n",
      "Indiana Pacers          10.153333  12.446667  1.460000  1.540000\n",
      "Los Angeles Clippers    10.586667  12.033333  1.993333  2.053333\n",
      "Los Angeles Lakers      10.921429  11.942857  1.692857  1.585714\n",
      "Memphis Grizzlies       10.180000  13.293333  1.646667  1.920000\n",
      "Miami Heat              10.057143  12.728571  1.485714  1.600000\n",
      "Milwaukee Bucks          9.326667  13.146667  1.533333  1.986667\n",
      "Minnesota Timberwolves   9.992857  12.664286  2.371429  1.585714\n",
      "New Orleans Pelicans     9.392308  13.415385  1.600000  1.607692\n",
      "New York Knicks         11.192857  11.921429  1.507143  1.964286\n",
      "Oklahoma City Thunder   10.450000  13.891667  1.483333  1.800000\n",
      "Orlando Magic            9.337500  12.225000  1.250000  1.243750\n",
      "Philadelphia 76ers      10.860000  15.040000  1.333333  1.786667\n",
      "Phoenix Suns             9.841176  11.029412  1.400000  1.458824\n",
      "Portland Trail Blazers   9.638462  12.400000  1.430769  1.438462\n",
      "Sacramento Kings         9.123077  14.107692  1.584615  1.492308\n",
      "San Antonio Spurs        9.687500  14.900000  1.512500  1.906250\n",
      "Toronto Raptors         10.671429  11.571429  1.928571  1.978571\n",
      "Transferred Players      9.490566  12.096226  1.469811  1.841509\n",
      "Utah Jazz               10.386667  12.673333  1.540000  1.726667\n",
      "Washington Wizards      13.450000  11.314286  1.535714  1.292857\n",
      "\r\n",
      "Highest Average Total Rebound Percentage is Washington Wizards\n",
      "Highest Average Assist Percentage is Denver Nuggets\n",
      "Highest Average Steal Percentage is Minnesota Timberwolves\n",
      "Highest Average Block Percentage is Golden State Warriors\n"
     ]
    }
   ],
   "source": [
    "# Define average grouped by Team\n",
    "tiga = df.groupby('Team')['TRB%', 'AST%', 'STL%', 'BLK%'].mean()\n",
    "print(tiga)\n",
    "print('\\r')\n",
    "\n",
    "# print highest TRB\n",
    "trb = tiga[tiga['TRB%'] == tiga['TRB%'].max()]\n",
    "print('Highest Average Total Rebound Percentage is ' + trb.index[0])\n",
    "\n",
    "# print highest AST\n",
    "ast = tiga[tiga['AST%'] == tiga['AST%'].max()]\n",
    "print('Highest Average Assist Percentage is ' + ast.index[0])\n",
    "\n",
    "# print highest STL\n",
    "stl = tiga[tiga['STL%'] == tiga['STL%'].max()]\n",
    "print('Highest Average Steal Percentage is ' + stl.index[0])\n",
    "\n",
    "# print highest BLK\n",
    "blk = tiga[tiga['BLK%'] == tiga['BLK%'].max()]\n",
    "print('Highest Average Block Percentage is ' + blk.index[0])"
   ]
  },
  {
   "cell_type": "markdown",
   "metadata": {
    "id": "4oB0Oq1UDNqj"
   },
   "source": [
    "### 4. Who is the best player in your opinion based on his record stats? note: you can refer to variables point (PTS), assists, rebounds, or anything else. A combination of several variables would be nice."
   ]
  },
  {
   "cell_type": "code",
   "execution_count": 19,
   "metadata": {
    "colab": {
     "base_uri": "https://localhost:8080/"
    },
    "id": "OJiSquZkCqka",
    "outputId": "f7715b0f-d35a-441d-91ca-1f3257027b46"
   },
   "outputs": [
    {
     "name": "stdout",
     "output_type": "stream",
     "text": [
      "                 Player   eFG%       PER       PTS      TOV%     Score\n",
      "457   Russell Westbrook  0.476  0.981670  1.000000  0.635321  3.092991\n",
      "423       Isaiah Thomas  0.546  0.898167  0.859656  0.754587  3.058410\n",
      "99        Anthony Davis  0.517  0.918534  0.820563  0.791284  3.047381\n",
      "432  Karl-Anthony Towns  0.576  0.887984  0.805708  0.740826  3.010517\n",
      "413      Jarnell Stokes  1.000  1.000000  0.001173  1.000000  3.001173\n",
      "\r\n",
      "457    My best player is Russell Westbrook\n",
      "Name: Player, dtype: object\n"
     ]
    }
   ],
   "source": [
    "# Menurut saya, Pemain terbaik di NBA adalah yg memiliki gaya permainan yang baik seperti :\n",
    "# 1. eFG% - Effective Field Goal Percentage. Sudah mencakup 2 point dan 3 point tembakan.\n",
    "# 2. TOV% - Turnover Percentage. Kesalahan saat menguasai bola harus rendah agar tidak terjadi turnover, terlihat dari makin rendahnya TOV% makin baik.\n",
    "# 3. PER - Player Efficiency Rating. Pemain yg paling effisien.\n",
    "# 4. PTS - Point. Karena di Basket, pemain terbaik adalah pemain yg mencetak score, itu termasuk pertahanan terbaik loh.\n",
    "\n",
    "# kita buat dataframe untuk soal nomor 4\n",
    "best_player = df[['Player','eFG%','PER', 'PTS', 'TOV%']].reset_index()\n",
    "\n",
    "# gunakan MinMaxScaler dengan range dari 0 - 1\n",
    "scaler = MinMaxScaler(feature_range=(0,1))\n",
    "\n",
    "# pisahkan number dan category\n",
    "best_number = best_player[['eFG%','PER', 'PTS', 'TOV%']]\n",
    "best_name = best_player['Player']\n",
    "\n",
    "# run scaler dan jadikan dataframe presult\n",
    "scaler.fit(best_number)\n",
    "presult = pd.DataFrame(scaler.transform(best_number), columns=['eFG%','PER', 'PTS', 'TOV%'])\n",
    "\n",
    "# Untuk TOV karena yg makin rendah makin baik, maka kita ganti scalanya dengan 1-value\n",
    "presult['TOV%'] = 1 - presult['TOV%']\n",
    "\n",
    "# Jumlahkan semua hasil parameter kolom score\n",
    "presult['Score'] = presult.sum(axis=1)\n",
    "\n",
    "# kita gabungkan dengan dataframe best_player dan sort values descending based on Score\n",
    "pres = pd.concat([best_name, presult], axis=1, sort=False)\n",
    "pres = pres.sort_values(by=['Score'], ascending=False)\n",
    "print(pres.head())\n",
    "print('\\r')\n",
    "\n",
    "print('My best player is ' + pres['Player'][pres['Score'] == pres['Score'].max()])\n"
   ]
  },
  {
   "cell_type": "markdown",
   "metadata": {
    "id": "d7NNplgcDS8p"
   },
   "source": [
    "### 5. Which team has the best average stat record of their players? Note: you can refer to points, assists, rebounds, or anything else. A combination of several variables would be nice"
   ]
  },
  {
   "cell_type": "code",
   "execution_count": 20,
   "metadata": {
    "colab": {
     "base_uri": "https://localhost:8080/"
    },
    "id": "NCz45vgWe62k",
    "outputId": "729bd016-e518-4d08-8dfe-c363379dd234"
   },
   "outputs": [
    {
     "name": "stdout",
     "output_type": "stream",
     "text": [
      "                    Team      eFG%      TOV%      ORB%      DRB%       FT%  \\\n",
      "1         Boston Celtics  0.387467  0.224618  0.553535  0.181310  0.077998   \n",
      "7         Denver Nuggets  0.400000  0.106995  0.585859  0.221079  0.134595   \n",
      "30    Washington Wizards  0.305876  0.163453  0.278932  1.000000  0.067958   \n",
      "12  Los Angeles Clippers  0.238389  0.193086  0.276768  0.329784  0.147995   \n",
      "10       Houston Rockets  0.357614  0.132939  0.528516  0.041809  0.082774   \n",
      "\n",
      "          RB     Score  \n",
      "1   0.073484  0.763568  \n",
      "7   0.080694  0.722283  \n",
      "30  0.127893  0.665180  \n",
      "12  0.060655  0.640126  \n",
      "10  0.057033  0.630360  \n",
      "\r\n",
      "1    My best team is Boston Celtics\n",
      "Name: Team, dtype: object\n"
     ]
    }
   ],
   "source": [
    "# Menurut saya, Team terbaik di NBA adalah yg memiliki faktor permainan yang baik :\n",
    "# 1. eFG% - Effective Field Goal Percentage. Sudah mencakup 2 point dan 3 point tembakan.\n",
    "# 2. TOV% - Turnover Percentage. Kesalahan saat menguasai bola harus rendah agar tidak terjadi turnover, terlihat dari makin rendahnya TOV% makin baik.\n",
    "# 3. ORB% - Offensive Rebound Percentage. Penguasaan daerah bawah ring lawan.\n",
    "# 4. DRB% - Defensive Rebound Percentage. Penguasaan daerah bawah ring team.\n",
    "# 5. FT% - Free Throw Percentage. Seberapa sering melakukan free throw dan dapat point.\n",
    "\n",
    "# kita buat dataframe untuk soal nomor 5\n",
    "best_team = df.groupby('Team')['eFG%','TOV%','ORB%','DRB%','FT%'].mean().reset_index()\n",
    "\n",
    "# gunakan MinMaxScaler dengan range dari 0 - 1\n",
    "scaler = MinMaxScaler(feature_range=(0,1))\n",
    "\n",
    "# pisahkan number dan category\n",
    "team_number = best_team[['eFG%','TOV%','ORB%','DRB%','FT%']]\n",
    "team_name = best_team['Team']\n",
    "\n",
    "# run scaler dan jadikan dataframe tresult\n",
    "scaler.fit(team_number)\n",
    "tresult = pd.DataFrame(scaler.transform(team_number), columns=['eFG%','TOV%','ORB%','DRB%','FT%'])\n",
    "\n",
    "# Sama seperti no.4 untuk TOV karena yg makin rendah makin baik, maka kita ganti scalanya dengan 1-value\n",
    "tresult['TOV%'] = 1 - tresult['TOV%']\n",
    "\n",
    "# ikuti perhitungan 4 factor dari Dean Oliver\n",
    "tresult['eFG%'] = (40/100*tresult['eFG%'])\n",
    "tresult['TOV%'] = (25/100*tresult['TOV%'])\n",
    "tresult['FT%'] = (15/100*tresult['FT%'])\n",
    "tresult['RB'] = (20/100*((tresult['ORB%']+tresult['DRB%'])/2))\n",
    "\n",
    "# assign the score\n",
    "tresult['Score'] = tresult['eFG%'] + tresult['TOV%'] + tresult['FT%'] + tresult['RB']\n",
    "\n",
    "# kita gabungkan dengan dataframe team_name dan sort values descending based on Score\n",
    "tres = pd.concat([team_name, tresult], axis=1, sort=False)\n",
    "tres = tres.sort_values(by=['Score'], ascending=False)\n",
    "print(tres.head())\n",
    "print('\\r')\n",
    "\n",
    "# Hasilnya adalah Boston Celtics, tetapi sayang sekali saat final kalah dengan Golden State Warriors\n",
    "print('My best team is ' + tres['Team'][tres['Score'] == tres['Score'].max()])\n",
    "\n"
   ]
  },
  {
   "cell_type": "markdown",
   "metadata": {
    "id": "Jl4VOXrb6Lih"
   },
   "source": [
    "## Finish\n"
   ]
  }
 ],
 "metadata": {
  "colab": {
   "collapsed_sections": [
    "JksBd3epnZP2"
   ],
   "name": "Muhammad Fazal - Practise Case Statistics.ipynb",
   "provenance": []
  },
  "kernelspec": {
   "display_name": "Python 3",
   "language": "python",
   "name": "python3"
  },
  "language_info": {
   "codemirror_mode": {
    "name": "ipython",
    "version": 3
   },
   "file_extension": ".py",
   "mimetype": "text/x-python",
   "name": "python",
   "nbconvert_exporter": "python",
   "pygments_lexer": "ipython3",
   "version": "3.8.3"
  }
 },
 "nbformat": 4,
 "nbformat_minor": 1
}
