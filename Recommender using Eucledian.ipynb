{
 "cells": [
  {
   "cell_type": "markdown",
   "metadata": {},
   "source": [
    "# Muhammad Fazal Hildiansyah - DS-2"
   ]
  },
  {
   "cell_type": "markdown",
   "metadata": {
    "id": "3oWBbYjNHlu7"
   },
   "source": [
    "Berikut ini adalah contoh data pengguna aplikasi streaming musik. Buatlah sebuah system rekomendasi sederhana menggunakan data berikut ini:"
   ]
  },
  {
   "cell_type": "markdown",
   "metadata": {
    "id": "f8GawG31lRzf"
   },
   "source": [
    "| |Cherrybelle|Kangen Band|Netral|PAS Band|SM*SH|The Rain|Ungu|\n",
    "|---|---|---|---|---|---|---|--|\n",
    "|Agus|4.0|4.5|2.5||3.5||5.0|\n",
    "|Andi||2.0|5.0|4.5||||\n",
    "|Angga||||||4.5||\n",
    "|Indah||3.5|4.5|5.0|||4.0|\n",
    "|Siti|4.0|4.0||1.0|5.0||3.5|\n",
    "|Solihah|4.0|4.0||1.0|5.0||3.5|\n"
   ]
  },
  {
   "cell_type": "markdown",
   "metadata": {
    "id": "O_MU9oaHH6rm"
   },
   "source": [
    "Gunakanlah metode **Eucledian Distance** yang memiliki formula sebagai berikut:\n",
    "\n",
    "$d(x,y) = \\sqrt{\\sum \\limits_{k=1} ^{n}(x_{k} - y_{k})^{2}}$"
   ]
  },
  {
   "cell_type": "markdown",
   "metadata": {
    "id": "D6NzPd5Xd6iE"
   },
   "source": [
    "Implementasikan solusi dalam dua paradigma pemrograman, ***functional programming*** dan ***object oriented programming***."
   ]
  },
  {
   "cell_type": "markdown",
   "metadata": {},
   "source": [
    "## Functional Programming"
   ]
  },
  {
   "cell_type": "code",
   "execution_count": 1,
   "metadata": {},
   "outputs": [],
   "source": [
    "# Data Extraction - Import Data\n",
    "users = {'Agus':{'Cherrybelle': 4.0,\n",
    "                 'Kangen Band': 4.5,\n",
    "                 'Netral': 2.5,\n",
    "                 'SM*SH': 3.5,\n",
    "                 'Ungu': 5.0},\n",
    "         'Andi':{'Kangen Band':2.0,\n",
    "                 'Netral':5.0,\n",
    "                 'PAS Band':4.5},\n",
    "         'Angga':{'The Rain':4.5},\n",
    "         'Indah':{'Kangen Band':3.5,\n",
    "                  'Netral':4.5,\n",
    "                  'PAS Band':5.0,\n",
    "                  'Ungu':4.0},\n",
    "         'Siti':{'Cherrybelle':4.0,\n",
    "                 'Kangen Band':4.0,\n",
    "                 'PAS Band':1.0,\n",
    "                 'SM*SH':5.0,\n",
    "                 'Ungu':3.5},\n",
    "         'Sholihah':{'Cherrybelle':4.0,\n",
    "                 'Kangen Band':4.0,\n",
    "                 'PAS Band':1.0,\n",
    "                 'SM*SH':5.0,\n",
    "                 'Ungu':3.5}}\n",
    "\n",
    "username = ['Agus', 'Andi', 'Angga', 'Indah', 'Siti', 'Sholihah']"
   ]
  },
  {
   "cell_type": "code",
   "execution_count": 2,
   "metadata": {},
   "outputs": [],
   "source": [
    "# Menghitung jarak dari satu user ke user lainnya dengan metode euclidean\n",
    "def euclidean(rating1, rating2):\n",
    "    distance = 0.0\n",
    "    x = False\n",
    "    for key in rating1:\n",
    "        if key in rating2:\n",
    "            x = True\n",
    "            distance += ((rating1[key]-rating2[key])**2)\n",
    "    if x == True :\n",
    "        return distance**(1/2)"
   ]
  },
  {
   "cell_type": "code",
   "execution_count": 3,
   "metadata": {},
   "outputs": [
    {
     "name": "stdout",
     "output_type": "stream",
     "text": [
      "Agus dengan Angga :  None\n"
     ]
    }
   ],
   "source": [
    "# Check distance Agus dengan Angga\n",
    "# harusnya muncul None karena tidak ada relasi diantara mereka\n",
    "print('Agus dengan Angga : ', euclidean(users['Agus'],users['Angga']))"
   ]
  },
  {
   "cell_type": "code",
   "execution_count": 4,
   "metadata": {},
   "outputs": [],
   "source": [
    "# Menghitung user yang terdekat\n",
    "def nearestNeighbor(username, data):\n",
    "    distances = []\n",
    "    for user in data:\n",
    "        if user != username:\n",
    "            distance = euclidean(data[username], data[user])\n",
    "            if distance != None :\n",
    "                distances.append((distance, user))\n",
    "    distances.sort()\n",
    "    return distances"
   ]
  },
  {
   "cell_type": "code",
   "execution_count": 5,
   "metadata": {},
   "outputs": [
    {
     "data": {
      "text/plain": [
       "[(2.179449471770337, 'Sholihah'),\n",
       " (2.179449471770337, 'Siti'),\n",
       " (2.449489742783178, 'Indah'),\n",
       " (3.5355339059327378, 'Andi')]"
      ]
     },
     "execution_count": 5,
     "metadata": {},
     "output_type": "execute_result"
    }
   ],
   "source": [
    "# Check distance Agus dengan yang lainnya\n",
    "nearestNeighbor(\"Agus\", users)"
   ]
  },
  {
   "cell_type": "code",
   "execution_count": 6,
   "metadata": {},
   "outputs": [],
   "source": [
    "# Menghitung rekomendasi penyanyi yang paling cocok dengan username\n",
    "def recommend(username, data):\n",
    "    recommendations = []\n",
    "    try:\n",
    "        nearest = nearestNeighbor(username, data)[0][1]\n",
    "        nearestRatings = data[nearest]\n",
    "        userRatings = data[username]\n",
    "        for artist in nearestRatings:\n",
    "            if artist not in userRatings:\n",
    "                recommendations.append((nearestRatings[artist], artist))\n",
    "        recommendations.sort(reverse=True)\n",
    "        if not recommendations:\n",
    "            return 'Tidak ada rekomendasi untuk '+username\n",
    "        else:\n",
    "            return recommendations\n",
    "    except:\n",
    "        return 'Tidak ada rekomendasi untuk '+username        "
   ]
  },
  {
   "cell_type": "code",
   "execution_count": 7,
   "metadata": {},
   "outputs": [
    {
     "data": {
      "text/plain": [
       "[(1.0, 'PAS Band')]"
      ]
     },
     "execution_count": 7,
     "metadata": {},
     "output_type": "execute_result"
    }
   ],
   "source": [
    "# Check rekomendasi untuk Agus\n",
    "recommend(\"Agus\", users)"
   ]
  },
  {
   "cell_type": "markdown",
   "metadata": {},
   "source": [
    "## Objected Oriented Programming"
   ]
  },
  {
   "cell_type": "code",
   "execution_count": 8,
   "metadata": {},
   "outputs": [],
   "source": [
    "# Membuat object 'recommender'\n",
    "class recommender:\n",
    "    def __init__(self, data):\n",
    "        self.data = data\n",
    "\n",
    "    def euclidean(self, username1, username2):\n",
    "        rating1 = self.data[username1]\n",
    "        rating2 = self.data[username2]\n",
    "        distance = 0.0\n",
    "        x = False\n",
    "        for key in rating1:\n",
    "            if key in rating2:\n",
    "                x = True\n",
    "                distance += ((rating1[key]-rating2[key])**2)\n",
    "        if x == True :\n",
    "            return distance**(1/2)   \n",
    "\n",
    "    def nearestNeighbor(self, username):\n",
    "        distances = []\n",
    "        for user in self.data:\n",
    "            if user != username:\n",
    "                distance = self.euclidean(username, user)\n",
    "                if distance != None :\n",
    "                    distances.append((distance, user))\n",
    "        distances.sort()\n",
    "        return distances\n",
    "\n",
    "    def recommend(self, username):\n",
    "        recommendations = []\n",
    "        try:\n",
    "            nearest = self.nearestNeighbor(username)[0][1]\n",
    "            nearestRatings = self.data[nearest]\n",
    "            userRatings = self.data[username]\n",
    "            for artist in nearestRatings:\n",
    "                if artist not in userRatings:\n",
    "                    recommendations.append((nearestRatings[artist], artist))\n",
    "            recommendations.sort(reverse=True)\n",
    "            if not recommendations:\n",
    "                return 'Tidak ada rekomendasi untuk '+username\n",
    "            else:\n",
    "                return recommendations\n",
    "        except:\n",
    "            return 'Tidak ada rekomendasi untuk '+username"
   ]
  },
  {
   "cell_type": "code",
   "execution_count": 9,
   "metadata": {},
   "outputs": [
    {
     "data": {
      "text/plain": [
       "[(1.0, 'PAS Band')]"
      ]
     },
     "execution_count": 9,
     "metadata": {},
     "output_type": "execute_result"
    }
   ],
   "source": [
    "# Check rekomendasi untuk Agus\n",
    "user_r = recommender(users)\n",
    "user_r.recommend(\"Agus\")"
   ]
  },
  {
   "cell_type": "code",
   "execution_count": 10,
   "metadata": {},
   "outputs": [
    {
     "name": "stdout",
     "output_type": "stream",
     "text": [
      "Agus:  [(1.0, 'PAS Band')]\n",
      "Andi:  [(4.0, 'Ungu')]\n",
      "Angga:  Tidak ada rekomendasi untuk Angga\n",
      "Indah:  Tidak ada rekomendasi untuk Indah\n",
      "Siti:  Tidak ada rekomendasi untuk Siti\n",
      "Sholihah:  Tidak ada rekomendasi untuk Sholihah\n"
     ]
    }
   ],
   "source": [
    "for i in username:\n",
    "    print(i+ \": \",user_r.recommend(i))"
   ]
  },
  {
   "cell_type": "markdown",
   "metadata": {},
   "source": [
    "## Extras"
   ]
  },
  {
   "cell_type": "code",
   "execution_count": 11,
   "metadata": {},
   "outputs": [
    {
     "name": "stdout",
     "output_type": "stream",
     "text": [
      "Data nama user :\n",
      "1. Agus\n",
      "2. Andi\n",
      "3. Angga\n",
      "4. Indah\n",
      "5. Siti\n",
      "6. Sholihah\n",
      "Tulis nama user yang butuh rekomendasi : Agus\n",
      "Rekomendasi untuk Agus:  [(1.0, 'PAS Band')]\n"
     ]
    }
   ],
   "source": [
    "print('Data nama user :')\n",
    "for x in range(0, len(username)) :\n",
    "    print(str(x+1)+'. '+username[x])\n",
    "    x += 1\n",
    "    \n",
    "name = input('Tulis nama user yang butuh rekomendasi : ').capitalize()\n",
    "\n",
    "if name in username:\n",
    "    print('Rekomendasi untuk '+name+ ': ',user_r.recommend(name))\n",
    "else:\n",
    "    print('Nama tidak terdaftar')"
   ]
  }
 ],
 "metadata": {
  "colab": {
   "collapsed_sections": [],
   "name": "Task of Intro to Python- IYKRA Data Fellowship Batch 5.ipynb",
   "provenance": []
  },
  "kernelspec": {
   "display_name": "Python 3",
   "language": "python",
   "name": "python3"
  },
  "language_info": {
   "codemirror_mode": {
    "name": "ipython",
    "version": 3
   },
   "file_extension": ".py",
   "mimetype": "text/x-python",
   "name": "python",
   "nbconvert_exporter": "python",
   "pygments_lexer": "ipython3",
   "version": "3.8.3"
  }
 },
 "nbformat": 4,
 "nbformat_minor": 1
}
